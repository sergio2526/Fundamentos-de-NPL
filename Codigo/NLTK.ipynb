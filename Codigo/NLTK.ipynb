{
  "nbformat": 4,
  "nbformat_minor": 0,
  "metadata": {
    "colab": {
      "name": "NLTK.ipynb",
      "provenance": [],
      "collapsed_sections": []
    },
    "kernelspec": {
      "name": "python3",
      "display_name": "Python 3"
    }
  },
  "cells": [
    {
      "cell_type": "code",
      "metadata": {
        "id": "fBFWhTWD1S9p",
        "colab_type": "code",
        "outputId": "69cc9bc5-38c9-447f-d8ae-9807106f1e35",
        "colab": {
          "base_uri": "https://localhost:8080/",
          "height": 68
        }
      },
      "source": [
        "import nltk\n",
        "\n",
        "nltk.download('cess_esp')"
      ],
      "execution_count": 0,
      "outputs": [
        {
          "output_type": "stream",
          "text": [
            "[nltk_data] Downloading package cess_esp to /root/nltk_data...\n",
            "[nltk_data]   Unzipping corpora/cess_esp.zip.\n"
          ],
          "name": "stdout"
        },
        {
          "output_type": "execute_result",
          "data": {
            "text/plain": [
              "True"
            ]
          },
          "metadata": {
            "tags": []
          },
          "execution_count": 3
        }
      ]
    },
    {
      "cell_type": "markdown",
      "metadata": {
        "id": "WXhE3buX2XNe",
        "colab_type": "text"
      },
      "source": [
        "# Expresiones Regulares"
      ]
    },
    {
      "cell_type": "code",
      "metadata": {
        "id": "oqHECkyx1utv",
        "colab_type": "code",
        "outputId": "cc55d576-b000-4552-c1df-4b7645febe95",
        "colab": {
          "base_uri": "https://localhost:8080/",
          "height": 88
        }
      },
      "source": [
        "import re\n",
        "\n",
        "corpus = nltk.corpus.cess_esp.sents()\n",
        "print(corpus) #este corpus ya esta tokenizado\n",
        "print(len(corpus)) #titulares de noticias en español\n",
        "\n",
        "print(type(corpus))"
      ],
      "execution_count": 0,
      "outputs": [
        {
          "output_type": "stream",
          "text": [
            "[['El', 'grupo', 'estatal', 'Electricité_de_France', '-Fpa-', 'EDF', '-Fpt-', 'anunció', 'hoy', ',', 'jueves', ',', 'la', 'compra', 'del', '51_por_ciento', 'de', 'la', 'empresa', 'mexicana', 'Electricidad_Águila_de_Altamira', '-Fpa-', 'EAA', '-Fpt-', ',', 'creada', 'por', 'el', 'japonés', 'Mitsubishi_Corporation', 'para', 'poner_en_marcha', 'una', 'central', 'de', 'gas', 'de', '495', 'megavatios', '.'], ['Una', 'portavoz', 'de', 'EDF', 'explicó', 'a', 'EFE', 'que', 'el', 'proyecto', 'para', 'la', 'construcción', 'de', 'Altamira_2', ',', 'al', 'norte', 'de', 'Tampico', ',', 'prevé', 'la', 'utilización', 'de', 'gas', 'natural', 'como', 'combustible', 'principal', 'en', 'una', 'central', 'de', 'ciclo', 'combinado', 'que', 'debe', 'empezar', 'a', 'funcionar', 'en', 'mayo_del_2002', '.'], ...]\n",
            "6030\n",
            "<class 'nltk.corpus.reader.util.ConcatenatedCorpusView'>\n"
          ],
          "name": "stdout"
        }
      ]
    },
    {
      "cell_type": "code",
      "metadata": {
        "id": "VmoT9q9k2kRN",
        "colab_type": "code",
        "outputId": "59b298d8-33c2-47f2-bbea-23518f2e80f8",
        "colab": {
          "base_uri": "https://localhost:8080/",
          "height": 51
        }
      },
      "source": [
        "flatten = [w for i in corpus for w in i]\n",
        "print(f'cantidad de tokens {len(flatten)}')\n",
        "print(flatten[:20])"
      ],
      "execution_count": 0,
      "outputs": [
        {
          "output_type": "stream",
          "text": [
            "cantidad de tokens 192685\n",
            "['El', 'grupo', 'estatal', 'Electricité_de_France', '-Fpa-', 'EDF', '-Fpt-', 'anunció', 'hoy', ',', 'jueves', ',', 'la', 'compra', 'del', '51_por_ciento', 'de', 'la', 'empresa', 'mexicana']\n"
          ],
          "name": "stdout"
        }
      ]
    },
    {
      "cell_type": "markdown",
      "metadata": {
        "id": "AHUf85cB4q4v",
        "colab_type": "text"
      },
      "source": [
        "## Estructura de la funcion re.search()"
      ]
    },
    {
      "cell_type": "code",
      "metadata": {
        "id": "Tic_cE8R3HDI",
        "colab_type": "code",
        "colab": {}
      },
      "source": [
        "arr = [w for w in flatten if re.search('es',w)]"
      ],
      "execution_count": 0,
      "outputs": []
    },
    {
      "cell_type": "code",
      "metadata": {
        "id": "Yp9CggE05OZp",
        "colab_type": "code",
        "outputId": "e466bc70-9458-4fe9-b207-ad126c558ba3",
        "colab": {
          "base_uri": "https://localhost:8080/",
          "height": 34
        }
      },
      "source": [
        "print(arr[:10])"
      ],
      "execution_count": 0,
      "outputs": [
        {
          "output_type": "stream",
          "text": [
            "['estatal', 'jueves', 'empresa', 'centrales', 'francesa', 'japonesa', 'millones', 'millones', 'dólares', 'millones']\n"
          ],
          "name": "stdout"
        }
      ]
    },
    {
      "cell_type": "code",
      "metadata": {
        "id": "Ink6K3IE5Q0Z",
        "colab_type": "code",
        "outputId": "bb5b0857-6472-43e2-ce2b-b32a2a268203",
        "colab": {
          "base_uri": "https://localhost:8080/",
          "height": 34
        }
      },
      "source": [
        "arr = [w for w in flatten if re.search('es$',w)]\n",
        "\n",
        "print(arr[:10])"
      ],
      "execution_count": 0,
      "outputs": [
        {
          "output_type": "stream",
          "text": [
            "['jueves', 'centrales', 'millones', 'millones', 'dólares', 'millones', 'millones', 'dólares', 'es', 'militantes']\n"
          ],
          "name": "stdout"
        }
      ]
    },
    {
      "cell_type": "code",
      "metadata": {
        "id": "5-HAvToy5uNf",
        "colab_type": "code",
        "outputId": "2b954432-a502-461d-a27c-b197f9d4f1c8",
        "colab": {
          "base_uri": "https://localhost:8080/",
          "height": 34
        }
      },
      "source": [
        "arr = [w for w in flatten if re.search('^es',w)]\n",
        "\n",
        "print(arr[:10])"
      ],
      "execution_count": 0,
      "outputs": [
        {
          "output_type": "stream",
          "text": [
            "['estatal', 'es', 'esta', 'esta', 'eso', 'es', 'especial', 'especialmente', 'este', 'estas']\n"
          ],
          "name": "stdout"
        }
      ]
    },
    {
      "cell_type": "code",
      "metadata": {
        "id": "Fm1P3HQv59u8",
        "colab_type": "code",
        "outputId": "7738c497-3d9a-4673-8d6e-fcbe7557e519",
        "colab": {
          "base_uri": "https://localhost:8080/",
          "height": 34
        }
      },
      "source": [
        "# Rango [a-z] [ghi]\n",
        "arr = [w for w in flatten if re.search('^[ghi]',w)]\n",
        "\n",
        "print(arr[:10])"
      ],
      "execution_count": 0,
      "outputs": [
        {
          "output_type": "stream",
          "text": [
            "['grupo', 'hoy', 'gas', 'gas', 'intervendrá', 'invertir', 'gas', 'hoy', 'insulto', 'intervención']\n"
          ],
          "name": "stdout"
        }
      ]
    },
    {
      "cell_type": "code",
      "metadata": {
        "id": "HjC4qx1C6S7l",
        "colab_type": "code",
        "outputId": "f49219a7-9dd2-4859-ffad-31c75534be5b",
        "colab": {
          "base_uri": "https://localhost:8080/",
          "height": 34
        }
      },
      "source": [
        "# Clasura\n",
        "# * repetir 0 o mas veces\n",
        "# + repetir 1 o mas veces\n",
        "\n",
        "arr = [w for w in flatten if re.search('^(no)+',w)]\n",
        "print(arr[:20])"
      ],
      "execution_count": 0,
      "outputs": [
        {
          "output_type": "stream",
          "text": [
            "['norte', 'no', 'no', 'noche', 'no', 'no', 'notificación', 'no', 'no', 'no', 'no_obstante', 'no', 'no', 'no', 'norte', 'no', 'no', 'no', 'no', 'norteamericano']\n"
          ],
          "name": "stdout"
        }
      ]
    },
    {
      "cell_type": "markdown",
      "metadata": {
        "id": "fnXK5Pf4mnV1",
        "colab_type": "text"
      },
      "source": [
        "## Normalziación de texto"
      ]
    },
    {
      "cell_type": "markdown",
      "metadata": {
        "id": "wh67v5prnERS",
        "colab_type": "text"
      },
      "source": [
        "Tokenización"
      ]
    },
    {
      "cell_type": "code",
      "metadata": {
        "id": "joqheKfjnFr0",
        "colab_type": "code",
        "colab": {}
      },
      "source": [
        "texto = \"\"\"Python es un lenguaje de programación (Muy util) interpretado cuya filosofía hace\n",
        " hincapié en la legibilidad de su código.​ Se trata de un lenguaje de programación multiparadigma, \n",
        " ya que soporta orientación a objetos, programación imperativa y, en menor medida, programación funcional...\"\"\""
      ],
      "execution_count": 0,
      "outputs": []
    },
    {
      "cell_type": "code",
      "metadata": {
        "id": "sUmjLpNInbqc",
        "colab_type": "code",
        "outputId": "843aa89b-7858-44f7-d1fa-59d1928a492b",
        "colab": {
          "base_uri": "https://localhost:8080/",
          "height": 54
        }
      },
      "source": [
        "# Casi 1: tokenizar por espacios vacios\n",
        "print(re.split(r' ',texto))"
      ],
      "execution_count": 0,
      "outputs": [
        {
          "output_type": "stream",
          "text": [
            "['Python', 'es', 'un', 'lenguaje', 'de', 'programación', '(Muy', 'util)', 'interpretado', 'cuya', 'filosofía', 'hace\\n', 'hincapié', 'en', 'la', 'legibilidad', 'de', 'su', 'código.\\u200b', 'Se', 'trata', 'de', 'un', 'lenguaje', 'de', 'programación', 'multiparadigma,', '\\n', 'ya', 'que', 'soporta', 'orientación', 'a', 'objetos,', 'programación', 'imperativa', 'y,', 'en', 'menor', 'medida,', 'programación', 'funcional...']\n"
          ],
          "name": "stdout"
        }
      ]
    },
    {
      "cell_type": "code",
      "metadata": {
        "id": "WUf5RSICnryW",
        "colab_type": "code",
        "outputId": "cacd7f0b-05f6-4dcd-f297-6a051b5848a9",
        "colab": {
          "base_uri": "https://localhost:8080/",
          "height": 54
        }
      },
      "source": [
        "# Caso 2: tokenizacion usando regex\n",
        "print(re.split(r'[ \\n\\t\\u200b]+',texto))"
      ],
      "execution_count": 0,
      "outputs": [
        {
          "output_type": "stream",
          "text": [
            "['Python', 'es', 'un', 'lenguaje', 'de', 'programación', '(Muy', 'util)', 'interpretado', 'cuya', 'filosofía', 'hace', 'hincapié', 'en', 'la', 'legibilidad', 'de', 'su', 'código.', 'Se', 'trata', 'de', 'un', 'lenguaje', 'de', 'programación', 'multiparadigma,', 'ya', 'que', 'soporta', 'orientación', 'a', 'objetos,', 'programación', 'imperativa', 'y,', 'en', 'menor', 'medida,', 'programación', 'funcional...']\n"
          ],
          "name": "stdout"
        }
      ]
    },
    {
      "cell_type": "code",
      "metadata": {
        "id": "cnB7LRf5oPXD",
        "colab_type": "code",
        "outputId": "500946fc-1ed0-4cf8-82df-9ca170c0e35d",
        "colab": {
          "base_uri": "https://localhost:8080/",
          "height": 54
        }
      },
      "source": [
        "# Caso3:\n",
        "print(re.split(r'[ \\W\\n\\t\\u200b]+',texto)) #Representa cualquier carácter no alfanumérico"
      ],
      "execution_count": 0,
      "outputs": [
        {
          "output_type": "stream",
          "text": [
            "['Python', 'es', 'un', 'lenguaje', 'de', 'programación', 'Muy', 'util', 'interpretado', 'cuya', 'filosofía', 'hace', 'hincapié', 'en', 'la', 'legibilidad', 'de', 'su', 'código', 'Se', 'trata', 'de', 'un', 'lenguaje', 'de', 'programación', 'multiparadigma', 'ya', 'que', 'soporta', 'orientación', 'a', 'objetos', 'programación', 'imperativa', 'y', 'en', 'menor', 'medida', 'programación', 'funcional', '']\n"
          ],
          "name": "stdout"
        }
      ]
    },
    {
      "cell_type": "markdown",
      "metadata": {
        "id": "QOdwVVmDpRUN",
        "colab_type": "text"
      },
      "source": [
        "## Tokenizador de NLTK"
      ]
    },
    {
      "cell_type": "code",
      "metadata": {
        "id": "61zePt7vpTRZ",
        "colab_type": "code",
        "colab": {}
      },
      "source": [
        "texto = 'En los E.U. esa postal vale $15.50 ...'\n"
      ],
      "execution_count": 0,
      "outputs": []
    },
    {
      "cell_type": "code",
      "metadata": {
        "id": "h65txXGOpikt",
        "colab_type": "code",
        "outputId": "12d37647-5898-4347-c356-3e90bd6604a4",
        "colab": {
          "base_uri": "https://localhost:8080/",
          "height": 34
        }
      },
      "source": [
        "print(re.split(r'[ \\W\\n\\t\\u200b]+',texto))"
      ],
      "execution_count": 0,
      "outputs": [
        {
          "output_type": "stream",
          "text": [
            "['En', 'los', 'E', 'U', 'esa', 'postal', 'vale', '15', '50', '']\n"
          ],
          "name": "stdout"
        }
      ]
    },
    {
      "cell_type": "code",
      "metadata": {
        "id": "tlMGxOd0pjA8",
        "colab_type": "code",
        "outputId": "bd9f8ee5-1a50-428e-b4f6-3b15b2e2967c",
        "colab": {
          "base_uri": "https://localhost:8080/",
          "height": 34
        }
      },
      "source": [
        "pattern = r'''(?x)                  # Flag para iniciar el modo verbose\n",
        "              (?:[A-Z]\\.)+            # Hace match con abreviaciones como U.S.A.\n",
        "              | \\w+(?:-\\w+)*         # Hace match con palabras que pueden tener un guión interno\n",
        "              | \\$?\\d+(?:\\.\\d+)?%?  # Hace match con dinero o porcentajes como $15.5 o 100%\n",
        "              | \\.\\.\\.              # Hace match con puntos suspensivos\n",
        "              | [][.,;\"'?():-_`]    # Hace match con signos de puntuación\n",
        "'''\n",
        "nltk.regexp_tokenize(texto,pattern)\n"
      ],
      "execution_count": 0,
      "outputs": [
        {
          "output_type": "execute_result",
          "data": {
            "text/plain": [
              "['En', 'los', 'E.U.', 'esa', 'postal', 'vale', '$15.50', '...']"
            ]
          },
          "metadata": {
            "tags": []
          },
          "execution_count": 46
        }
      ]
    },
    {
      "cell_type": "code",
      "metadata": {
        "id": "bRrLSZufqIti",
        "colab_type": "code",
        "colab": {}
      },
      "source": [
        ""
      ],
      "execution_count": 0,
      "outputs": []
    }
  ]
}